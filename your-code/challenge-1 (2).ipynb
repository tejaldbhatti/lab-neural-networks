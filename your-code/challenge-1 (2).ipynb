{
  "cells": [
    {
      "cell_type": "markdown",
      "metadata": {
        "id": "Yzm3KJnmoFRB"
      },
      "source": [
        "# Challenge 1 - Tic Tac Toe\n",
        "\n",
        "In this lab you will perform deep learning analysis on a dataset of playing [Tic Tac Toe](https://en.wikipedia.org/wiki/Tic-tac-toe).\n",
        "\n",
        "There are 9 grids in Tic Tac Toe that are coded as the following picture shows:\n",
        "\n",
        "![Tic Tac Toe Grids](tttboard.jpg)\n",
        "\n",
        "In the first 9 columns of the dataset you can find which marks (`x` or `o`) exist in the grids. If there is no mark in a certain grid, it is labeled as `b`. The last column is `class` which tells you whether Player X (who always moves first in Tic Tac Toe) wins in this configuration. Note that when `class` has the value `False`, it means either Player O wins the game or it ends up as a draw."
      ]
    },
    {
      "cell_type": "markdown",
      "metadata": {
        "id": "jsCFQ2IzoFRH"
      },
      "source": [
        "Follow the steps suggested below to conduct a neural network analysis using Tensorflow and Keras. You will build a deep learning model to predict whether Player X wins the game or not.\n",
        "\n",
        "## Step 1: Data Engineering\n",
        "\n",
        "This dataset is almost in the ready-to-use state so you do not need to worry about missing values and so on. Still, some simple data engineering is needed.\n",
        "\n",
        "1. Read `tic-tac-toe.csv` into a dataframe.\n",
        "1. Inspect the dataset. Determine if the dataset is reliable by eyeballing the data.\n",
        "1. Convert the categorical values to numeric in all columns.\n",
        "1. Separate the inputs and output.\n",
        "1. Normalize the input data."
      ]
    },
    {
      "cell_type": "code",
      "source": [
        "import pandas as pd\n",
        "import numpy as np\n",
        "import tensorflow as tf\n",
        "from tensorflow import keras\n",
        "from tensorflow.keras import layers\n",
        "from sklearn.preprocessing import LabelEncoder"
      ],
      "metadata": {
        "id": "ApVtZYaMzLVt"
      },
      "execution_count": 1,
      "outputs": []
    },
    {
      "cell_type": "code",
      "source": [
        "#Read the csv file\n",
        "df = pd.read_csv('/content/tic-tac-toe.csv')\n",
        "df.head()\n",
        "\n",
        "# Analysing the dataset\n",
        "df.info()\n",
        "\n",
        "#Convert the categorical values into numeric\n",
        "X = df.drop(columns = \"class\",axis =1)      # First 9 columns: board state\n",
        "y = df[\"class\"]       # Last column: label (e.g., winner or outcome)\n",
        "\n",
        "X = df.iloc[:, :-1].replace({'x': 1, 'o': -1, 'b': 0}).values\n",
        "\n",
        "label_encoder = LabelEncoder()\n",
        "y_encoded = label_encoder.fit_transform(y)\n",
        "\n",
        "#print(X)\n",
        "#print(y_encoded)\n",
        "\n",
        "# Normalize the input data.\n",
        "from sklearn.preprocessing import MinMaxScaler\n",
        "\n",
        "scaler = MinMaxScaler()\n",
        "X = scaler.fit_transform(X)"
      ],
      "metadata": {
        "colab": {
          "base_uri": "https://localhost:8080/"
        },
        "id": "Wdn2Sm5zzPYN",
        "outputId": "e2a8b9df-e55e-4ea5-87d2-5a2e8947cf25"
      },
      "execution_count": 2,
      "outputs": [
        {
          "output_type": "stream",
          "name": "stdout",
          "text": [
            "<class 'pandas.core.frame.DataFrame'>\n",
            "RangeIndex: 958 entries, 0 to 957\n",
            "Data columns (total 10 columns):\n",
            " #   Column  Non-Null Count  Dtype \n",
            "---  ------  --------------  ----- \n",
            " 0   TL      958 non-null    object\n",
            " 1   TM      958 non-null    object\n",
            " 2   TR      958 non-null    object\n",
            " 3   ML      958 non-null    object\n",
            " 4   MM      958 non-null    object\n",
            " 5   MR      958 non-null    object\n",
            " 6   BL      958 non-null    object\n",
            " 7   BM      958 non-null    object\n",
            " 8   BR      958 non-null    object\n",
            " 9   class   958 non-null    bool  \n",
            "dtypes: bool(1), object(9)\n",
            "memory usage: 68.4+ KB\n"
          ]
        },
        {
          "output_type": "stream",
          "name": "stderr",
          "text": [
            "<ipython-input-2-eef4cb1b9138>:12: FutureWarning: Downcasting behavior in `replace` is deprecated and will be removed in a future version. To retain the old behavior, explicitly call `result.infer_objects(copy=False)`. To opt-in to the future behavior, set `pd.set_option('future.no_silent_downcasting', True)`\n",
            "  X = df.iloc[:, :-1].replace({'x': 1, 'o': -1, 'b': 0}).values\n"
          ]
        }
      ]
    },
    {
      "cell_type": "markdown",
      "metadata": {
        "id": "ZNxAYeWGoFRS"
      },
      "source": [
        "## Step 2: Build Neural Network\n",
        "\n",
        "To build the neural network, you can refer to your own codes you wrote while following the [Deep Learning with Python, TensorFlow, and Keras tutorial](https://www.youtube.com/watch?v=wQ8BIBpya2k) in the lesson. It's pretty similar to what you will be doing in this lab.\n",
        "\n",
        "1. Split the training and test data.\n",
        "1. Create a `Sequential` model.\n",
        "1. Add several layers to your model. Make sure you use ReLU as the activation function for the middle layers. Use Softmax for the output layer because each output has a single lable and all the label probabilities add up to 1.\n",
        "1. Compile the model using `adam` as the optimizer and `sparse_categorical_crossentropy` as the loss function. For metrics, use `accuracy` for now.\n",
        "1. Fit the training data.\n",
        "1. Evaluate your neural network model with the test data.\n",
        "1. Save your model as `tic-tac-toe.model`."
      ]
    },
    {
      "cell_type": "code",
      "execution_count": 3,
      "metadata": {
        "colab": {
          "base_uri": "https://localhost:8080/"
        },
        "id": "LdFUYqIJoFRV",
        "outputId": "738f6e1a-f64e-4d8f-9743-a17b5e24c6dc"
      },
      "outputs": [
        {
          "output_type": "stream",
          "name": "stderr",
          "text": [
            "/usr/local/lib/python3.11/dist-packages/keras/src/layers/core/dense.py:87: UserWarning: Do not pass an `input_shape`/`input_dim` argument to a layer. When using Sequential models, prefer using an `Input(shape)` object as the first layer in the model instead.\n",
            "  super().__init__(activity_regularizer=activity_regularizer, **kwargs)\n"
          ]
        },
        {
          "output_type": "stream",
          "name": "stdout",
          "text": [
            "Epoch 1/10\n",
            "\u001b[1m24/24\u001b[0m \u001b[32m━━━━━━━━━━━━━━━━━━━━\u001b[0m\u001b[37m\u001b[0m \u001b[1m2s\u001b[0m 5ms/step - accuracy: 0.6711 - loss: 0.6218\n",
            "Epoch 2/10\n",
            "\u001b[1m24/24\u001b[0m \u001b[32m━━━━━━━━━━━━━━━━━━━━\u001b[0m\u001b[37m\u001b[0m \u001b[1m0s\u001b[0m 5ms/step - accuracy: 0.6688 - loss: 0.5783\n",
            "Epoch 3/10\n",
            "\u001b[1m24/24\u001b[0m \u001b[32m━━━━━━━━━━━━━━━━━━━━\u001b[0m\u001b[37m\u001b[0m \u001b[1m0s\u001b[0m 4ms/step - accuracy: 0.7505 - loss: 0.5279\n",
            "Epoch 4/10\n",
            "\u001b[1m24/24\u001b[0m \u001b[32m━━━━━━━━━━━━━━━━━━━━\u001b[0m\u001b[37m\u001b[0m \u001b[1m0s\u001b[0m 5ms/step - accuracy: 0.7707 - loss: 0.4960\n",
            "Epoch 5/10\n",
            "\u001b[1m24/24\u001b[0m \u001b[32m━━━━━━━━━━━━━━━━━━━━\u001b[0m\u001b[37m\u001b[0m \u001b[1m0s\u001b[0m 5ms/step - accuracy: 0.7524 - loss: 0.4935\n",
            "Epoch 6/10\n",
            "\u001b[1m24/24\u001b[0m \u001b[32m━━━━━━━━━━━━━━━━━━━━\u001b[0m\u001b[37m\u001b[0m \u001b[1m0s\u001b[0m 5ms/step - accuracy: 0.7803 - loss: 0.4564\n",
            "Epoch 7/10\n",
            "\u001b[1m24/24\u001b[0m \u001b[32m━━━━━━━━━━━━━━━━━━━━\u001b[0m\u001b[37m\u001b[0m \u001b[1m0s\u001b[0m 3ms/step - accuracy: 0.8044 - loss: 0.4197  \n",
            "Epoch 8/10\n",
            "\u001b[1m24/24\u001b[0m \u001b[32m━━━━━━━━━━━━━━━━━━━━\u001b[0m\u001b[37m\u001b[0m \u001b[1m0s\u001b[0m 3ms/step - accuracy: 0.8597 - loss: 0.3725 \n",
            "Epoch 9/10\n",
            "\u001b[1m24/24\u001b[0m \u001b[32m━━━━━━━━━━━━━━━━━━━━\u001b[0m\u001b[37m\u001b[0m \u001b[1m0s\u001b[0m 4ms/step - accuracy: 0.8892 - loss: 0.3084\n",
            "Epoch 10/10\n",
            "\u001b[1m24/24\u001b[0m \u001b[32m━━━━━━━━━━━━━━━━━━━━\u001b[0m\u001b[37m\u001b[0m \u001b[1m0s\u001b[0m 3ms/step - accuracy: 0.9384 - loss: 0.2894 \n",
            "\u001b[1m6/6\u001b[0m \u001b[32m━━━━━━━━━━━━━━━━━━━━\u001b[0m\u001b[37m\u001b[0m \u001b[1m0s\u001b[0m 6ms/step - accuracy: 0.9092 - loss: 0.3015  \n",
            "Test accuracy: 0.921875\n"
          ]
        }
      ],
      "source": [
        "# your code here\n",
        "#1. Train Test Split\n",
        "from sklearn.model_selection import train_test_split\n",
        "\n",
        "X_train, X_test, y_train, y_test = train_test_split(X, y_encoded, test_size=0.2, random_state=42)\n",
        "\n",
        "#2. Create sequential model\n",
        "model = tf.keras.Sequential()\n",
        "\n",
        "#3 Add layers\n",
        "model.add(tf.keras.layers.Dense(128, activation='relu', input_shape=(9,)))\n",
        "model.add(tf.keras.layers.Dense(64, activation='relu'))\n",
        "#model.add(tf.keras.layers.Dense(32, activation='relu'))\n",
        "num_classes = len(np.unique(y))\n",
        "model.add(tf.keras.layers.Dense(num_classes, activation='softmax'))\n",
        "\n",
        "\n",
        "#4. model compilation, loss function, accuracy\n",
        "model.compile(optimizer='adam', loss='sparse_categorical_crossentropy', metrics=['accuracy'])\n",
        "\n",
        "#5. fit the training data\n",
        "model.fit(X_train, y_train, epochs=10, batch_size=32,verbose=1)\n",
        "\n",
        "#6. Evaluate model\n",
        "test_loss, test_acc = model.evaluate(X_test, y_test)\n",
        "print('Test accuracy:', test_acc)\n",
        "\n",
        "#7. Save model\n",
        "model.save('tic-tac-toe.keras')\n",
        "\n",
        "\n"
      ]
    },
    {
      "cell_type": "markdown",
      "metadata": {
        "id": "99b0j_ucoFRX"
      },
      "source": [
        "## Step 3: Make Predictions\n",
        "\n",
        "Now load your saved model and use it to make predictions on a few random rows in the test dataset. Check if the predictions are correct."
      ]
    },
    {
      "cell_type": "code",
      "execution_count": 4,
      "metadata": {
        "colab": {
          "base_uri": "https://localhost:8080/"
        },
        "id": "TizKBjzjoFRa",
        "outputId": "236b189b-1c61-4734-c38d-2162fd07175f"
      },
      "outputs": [
        {
          "output_type": "stream",
          "name": "stdout",
          "text": [
            "\u001b[1m1/1\u001b[0m \u001b[32m━━━━━━━━━━━━━━━━━━━━\u001b[0m\u001b[37m\u001b[0m \u001b[1m0s\u001b[0m 80ms/step\n",
            "Sample 1:\n",
            "Input: [1.  0.  1.  0.5 0.  0.5 1.  0.  0.5]\n",
            "True Label: 0\n",
            "Predicted Label: 0\n",
            "---\n",
            "Sample 2:\n",
            "Input: [0.5 0.5 1.  0.5 1.  0.  1.  0.  0.5]\n",
            "True Label: 1\n",
            "Predicted Label: 1\n",
            "---\n",
            "Sample 3:\n",
            "Input: [0.  0.5 1.  1.  1.  1.  0.  0.5 0. ]\n",
            "True Label: 1\n",
            "Predicted Label: 1\n",
            "---\n",
            "Sample 4:\n",
            "Input: [1. 1. 0. 1. 1. 0. 0. 0. 1.]\n",
            "True Label: 1\n",
            "Predicted Label: 1\n",
            "---\n",
            "Sample 5:\n",
            "Input: [0.  1.  1.  0.5 1.  0.  0.5 1.  0. ]\n",
            "True Label: 1\n",
            "Predicted Label: 1\n",
            "---\n",
            "Sample 6:\n",
            "Input: [0.  1.  0.5 0.5 1.  0.  0.5 1.  0.5]\n",
            "True Label: 1\n",
            "Predicted Label: 1\n",
            "---\n",
            "Sample 7:\n",
            "Input: [0.5 0.5 1.  0.  0.  1.  1.  0.  1. ]\n",
            "True Label: 1\n",
            "Predicted Label: 1\n",
            "---\n",
            "Sample 8:\n",
            "Input: [0. 1. 1. 1. 0. 0. 1. 0. 1.]\n",
            "True Label: 0\n",
            "Predicted Label: 1\n",
            "---\n",
            "Sample 9:\n",
            "Input: [0.  0.5 1.  0.5 1.  0.5 1.  0.5 0. ]\n",
            "True Label: 1\n",
            "Predicted Label: 1\n",
            "---\n",
            "Sample 10:\n",
            "Input: [1.  0.  0.5 0.  1.  0.5 0.5 0.5 1. ]\n",
            "True Label: 1\n",
            "Predicted Label: 1\n",
            "---\n",
            "Loss on sample: 0.2873\n",
            "Accuracy on sample: 0.9000\n"
          ]
        }
      ],
      "source": [
        "# your code here\n",
        "import numpy as np\n",
        "from tensorflow.keras.models import load_model\n",
        "\n",
        "# Load the saved model\n",
        "loaded_model = load_model('tic-tac-toe.keras')\n",
        "\n",
        "# taking random sample from test dataset\n",
        "import random\n",
        "\n",
        "indices = random.sample(range(len(X_test)), 10)\n",
        "X_sample = X_test[indices]\n",
        "y_sample = y_test[indices]\n",
        "\n",
        "y_pred_probs = loaded_model.predict(X_sample)\n",
        "y_pred = np.argmax(y_pred_probs, axis=1)\n",
        "# y_pred_labels = label_encoder.inverse_transform(y_pred)\n",
        "# print(\"Predicated y: \",y_pred_labels)\n",
        "# print(\"y_sample: \", y_sample)\n",
        "\n",
        "for i in range(10):\n",
        "    print(f\"Sample {i+1}:\")\n",
        "    print(f\"Input: {X_sample[i]}\")\n",
        "    print(f\"True Label: {y_sample[i]}\")\n",
        "    print(f\"Predicted Label: {y_pred[i]}\")\n",
        "    print(\"---\")\n",
        "\n",
        "loss, accuracy = loaded_model.evaluate(X_sample, y_sample, verbose=0)\n",
        "\n",
        "print(f\"Loss on sample: {loss:.4f}\")\n",
        "print(f\"Accuracy on sample: {accuracy:.4f}\")"
      ]
    },
    {
      "cell_type": "markdown",
      "metadata": {
        "id": "qOgfoyKMoFRc"
      },
      "source": [
        "## Step 4: Improve Your Model\n",
        "\n",
        "Did your model achieve low loss (<0.1) and high accuracy (>0.95)? If not, try to improve your model.\n",
        "\n",
        "But how? There are so many things you can play with in Tensorflow and in the next challenge you'll learn about these things. But in this challenge, let's just do a few things to see if they will help.\n",
        "\n",
        "* Add more layers to your model. If the data are complex you need more layers. But don't use more layers than you need. If adding more layers does not improve the model performance you don't need additional layers.\n",
        "* Adjust the learning rate when you compile the model. This means you will create a custom `tf.keras.optimizers.Adam` instance where you specify the learning rate you want. Then pass the instance to `model.compile` as the optimizer.\n",
        "    * `tf.keras.optimizers.Adam` [reference](https://www.tensorflow.org/api_docs/python/tf/keras/optimizers/Adam).\n",
        "    * Don't worry if you don't understand what the learning rate does. You'll learn about it in the next challenge.\n",
        "* Adjust the number of epochs when you fit the training data to the model. Your model performance continues to improve as you train more epochs. But eventually it will reach the ceiling and the performance will stay the same."
      ]
    },
    {
      "cell_type": "code",
      "source": [
        "model.add(tf.keras.layers.Dense(128, activation='relu', input_shape=(9,)))\n",
        "model.add(tf.keras.layers.Dense(64, activation='relu'))\n",
        "model.add(tf.keras.layers.Dense(32, activation='relu'))\n",
        "num_classes = len(np.unique(y))\n",
        "model.add(tf.keras.layers.Dense(num_classes, activation='softmax'))\n",
        "\n",
        "\n",
        "#4. model compilation, loss function, accuracy\n",
        "model.compile(optimizer='adam', loss='sparse_categorical_crossentropy', metrics=['accuracy'])\n",
        "\n",
        "#5. fit the training data\n",
        "model.fit(X_train, y_train, epochs=11, batch_size=32,verbose=1)\n",
        "\n",
        "#6. Evaluate model\n",
        "test_loss, test_acc = model.evaluate(X_test, y_test)\n",
        "print('Test accuracy:', test_acc)\n",
        "\n",
        "#7. Save model\n",
        "model.save('tic-tac-toe.keras')"
      ],
      "metadata": {
        "colab": {
          "base_uri": "https://localhost:8080/"
        },
        "id": "rQfFVaU3xWV7",
        "outputId": "286091fc-06bb-44a0-d422-cfd69986ac74"
      },
      "execution_count": 18,
      "outputs": [
        {
          "output_type": "stream",
          "name": "stdout",
          "text": [
            "Epoch 1/11\n",
            "\u001b[1m24/24\u001b[0m \u001b[32m━━━━━━━━━━━━━━━━━━━━\u001b[0m\u001b[37m\u001b[0m \u001b[1m14s\u001b[0m 26ms/step - accuracy: 0.8982 - loss: 0.5825\n",
            "Epoch 2/11\n",
            "\u001b[1m24/24\u001b[0m \u001b[32m━━━━━━━━━━━━━━━━━━━━\u001b[0m\u001b[37m\u001b[0m \u001b[1m1s\u001b[0m 23ms/step - accuracy: 0.9785 - loss: 0.2545\n",
            "Epoch 3/11\n",
            "\u001b[1m24/24\u001b[0m \u001b[32m━━━━━━━━━━━━━━━━━━━━\u001b[0m\u001b[37m\u001b[0m \u001b[1m0s\u001b[0m 8ms/step - accuracy: 0.9669 - loss: 0.1642\n",
            "Epoch 4/11\n",
            "\u001b[1m24/24\u001b[0m \u001b[32m━━━━━━━━━━━━━━━━━━━━\u001b[0m\u001b[37m\u001b[0m \u001b[1m0s\u001b[0m 8ms/step - accuracy: 0.9824 - loss: 0.0893\n",
            "Epoch 5/11\n",
            "\u001b[1m24/24\u001b[0m \u001b[32m━━━━━━━━━━━━━━━━━━━━\u001b[0m\u001b[37m\u001b[0m \u001b[1m0s\u001b[0m 8ms/step - accuracy: 0.9753 - loss: 0.1116\n",
            "Epoch 6/11\n",
            "\u001b[1m24/24\u001b[0m \u001b[32m━━━━━━━━━━━━━━━━━━━━\u001b[0m\u001b[37m\u001b[0m \u001b[1m0s\u001b[0m 8ms/step - accuracy: 0.9795 - loss: 0.0941\n",
            "Epoch 7/11\n",
            "\u001b[1m24/24\u001b[0m \u001b[32m━━━━━━━━━━━━━━━━━━━━\u001b[0m\u001b[37m\u001b[0m \u001b[1m0s\u001b[0m 8ms/step - accuracy: 0.9737 - loss: 0.1140\n",
            "Epoch 8/11\n",
            "\u001b[1m24/24\u001b[0m \u001b[32m━━━━━━━━━━━━━━━━━━━━\u001b[0m\u001b[37m\u001b[0m \u001b[1m0s\u001b[0m 8ms/step - accuracy: 0.9837 - loss: 0.0837\n",
            "Epoch 9/11\n",
            "\u001b[1m24/24\u001b[0m \u001b[32m━━━━━━━━━━━━━━━━━━━━\u001b[0m\u001b[37m\u001b[0m \u001b[1m0s\u001b[0m 8ms/step - accuracy: 0.9749 - loss: 0.1095\n",
            "Epoch 10/11\n",
            "\u001b[1m24/24\u001b[0m \u001b[32m━━━━━━━━━━━━━━━━━━━━\u001b[0m\u001b[37m\u001b[0m \u001b[1m0s\u001b[0m 8ms/step - accuracy: 0.9710 - loss: 0.1216\n",
            "Epoch 11/11\n",
            "\u001b[1m24/24\u001b[0m \u001b[32m━━━━━━━━━━━━━━━━━━━━\u001b[0m\u001b[37m\u001b[0m \u001b[1m0s\u001b[0m 8ms/step - accuracy: 0.9745 - loss: 0.1110\n",
            "\u001b[1m6/6\u001b[0m \u001b[32m━━━━━━━━━━━━━━━━━━━━\u001b[0m\u001b[37m\u001b[0m \u001b[1m1s\u001b[0m 7ms/step - accuracy: 0.9199 - loss: 0.2958  \n",
            "Test accuracy: 0.9322916865348816\n"
          ]
        }
      ]
    },
    {
      "cell_type": "markdown",
      "metadata": {
        "id": "cl16DGYtoFRg"
      },
      "source": [
        "**Which approach(es) did you find helpful to improve your model performance?**"
      ]
    },
    {
      "cell_type": "code",
      "execution_count": 21,
      "metadata": {
        "colab": {
          "base_uri": "https://localhost:8080/"
        },
        "id": "Hq56EWywoFRh",
        "outputId": "fb1578ac-9d93-4b63-db2d-7d209a6c708d"
      },
      "outputs": [
        {
          "output_type": "stream",
          "name": "stdout",
          "text": [
            "\u001b[1m1/1\u001b[0m \u001b[32m━━━━━━━━━━━━━━━━━━━━\u001b[0m\u001b[37m\u001b[0m \u001b[1m0s\u001b[0m 357ms/step\n",
            "Sample 1:\n",
            "Input: [1.  0.5 0.5 0.5 1.  0.  0.  0.5 1. ]\n",
            "True Label: 1\n",
            "Predicted Label: 1\n",
            "---\n",
            "Sample 2:\n",
            "Input: [0.5 0.  1.  0.  0.  0.5 1.  1.  1. ]\n",
            "True Label: 1\n",
            "Predicted Label: 1\n",
            "---\n",
            "Sample 3:\n",
            "Input: [0.5 0.5 1.  0.  0.  1.  1.  0.  1. ]\n",
            "True Label: 1\n",
            "Predicted Label: 1\n",
            "---\n",
            "Sample 4:\n",
            "Input: [1.  0.5 0.  0.  1.  0.  1.  0.5 1. ]\n",
            "True Label: 1\n",
            "Predicted Label: 1\n",
            "---\n",
            "Sample 5:\n",
            "Input: [0.  0.5 1.  0.5 0.5 1.  0.5 0.  1. ]\n",
            "True Label: 1\n",
            "Predicted Label: 1\n",
            "---\n",
            "Sample 6:\n",
            "Input: [1.  1.  1.  0.5 0.5 0.  0.  1.  0. ]\n",
            "True Label: 1\n",
            "Predicted Label: 1\n",
            "---\n",
            "Sample 7:\n",
            "Input: [0.  1.  0.5 0.5 1.  0.  1.  1.  0. ]\n",
            "True Label: 1\n",
            "Predicted Label: 1\n",
            "---\n",
            "Sample 8:\n",
            "Input: [1.  1.  0.  1.  0.  0.5 0.  0.5 0.5]\n",
            "True Label: 0\n",
            "Predicted Label: 0\n",
            "---\n",
            "Sample 9:\n",
            "Input: [1.  1.  0.  1.  0.  0.5 0.  0.  1. ]\n",
            "True Label: 0\n",
            "Predicted Label: 0\n",
            "---\n",
            "Sample 10:\n",
            "Input: [0.5 1.  1.  0.5 1.  0.  1.  0.  0. ]\n",
            "True Label: 1\n",
            "Predicted Label: 1\n",
            "---\n",
            "Sample 11:\n",
            "Input: [0.5 0.5 1.  0.  1.  1.  0.  0.  1. ]\n",
            "True Label: 1\n",
            "Predicted Label: 1\n",
            "---\n",
            "Sample 12:\n",
            "Input: [0.5 1.  1.  0.  1.  0.  0.  1.  0.5]\n",
            "True Label: 1\n",
            "Predicted Label: 1\n",
            "---\n",
            "Sample 13:\n",
            "Input: [0.5 1.  0.  0.  1.  0.5 0.  1.  1. ]\n",
            "True Label: 1\n",
            "Predicted Label: 1\n",
            "---\n",
            "Sample 14:\n",
            "Input: [1.  0.  0.  0.5 0.  1.  1.  0.  1. ]\n",
            "True Label: 0\n",
            "Predicted Label: 0\n",
            "---\n",
            "Sample 15:\n",
            "Input: [0.  0.5 1.  1.  1.  0.  1.  0.  0.5]\n",
            "True Label: 1\n",
            "Predicted Label: 1\n",
            "---\n",
            "Sample 16:\n",
            "Input: [1.  0.5 0.  1.  0.5 1.  1.  0.  0. ]\n",
            "True Label: 1\n",
            "Predicted Label: 1\n",
            "---\n",
            "Sample 17:\n",
            "Input: [0.5 0.  1.  0.  1.  1.  0.  0.5 1. ]\n",
            "True Label: 1\n",
            "Predicted Label: 1\n",
            "---\n",
            "Sample 18:\n",
            "Input: [1. 1. 0. 0. 1. 1. 0. 1. 0.]\n",
            "True Label: 1\n",
            "Predicted Label: 1\n",
            "---\n",
            "Sample 19:\n",
            "Input: [0.5 0.5 1.  0.5 0.  1.  0.  0.5 1. ]\n",
            "True Label: 1\n",
            "Predicted Label: 1\n",
            "---\n",
            "Sample 20:\n",
            "Input: [1.  0.  0.  0.5 0.  1.  0.  1.  1. ]\n",
            "True Label: 0\n",
            "Predicted Label: 0\n",
            "---\n",
            "Loss on sample: 0.0269\n",
            "Accuracy on sample: 1.0000\n"
          ]
        }
      ],
      "source": [
        "# your answer here\n",
        "# Load the saved model\n",
        "loaded_model = load_model('tic-tac-toe.keras')\n",
        "\n",
        "# taking random sample from test dataset\n",
        "import random\n",
        "\n",
        "indices = random.sample(range(len(X_test)), 20)\n",
        "X_sample = X_test[indices]\n",
        "y_sample = y_test[indices]\n",
        "\n",
        "y_pred_probs = loaded_model.predict(X_sample)\n",
        "y_pred = np.argmax(y_pred_probs, axis=1)\n",
        "# y_pred_labels = label_encoder.inverse_transform(y_pred)\n",
        "# print(\"Predicated y: \",y_pred_labels)\n",
        "# print(\"y_sample: \", y_sample)\n",
        "\n",
        "for i in range(20):\n",
        "    print(f\"Sample {i+1}:\")\n",
        "    print(f\"Input: {X_sample[i]}\")\n",
        "    print(f\"True Label: {y_sample[i]}\")\n",
        "    print(f\"Predicted Label: {y_pred[i]}\")\n",
        "    print(\"---\")\n",
        "\n",
        "loss, accuracy = loaded_model.evaluate(X_sample, y_sample, verbose=0)\n",
        "\n",
        "print(f\"Loss on sample: {loss:.4f}\")\n",
        "print(f\"Accuracy on sample: {accuracy:.4f}\")"
      ]
    },
    {
      "cell_type": "code",
      "source": [
        "# By increasing one more hidden layer and increasing epoc provides me higher accuracy and low loss"
      ],
      "metadata": {
        "id": "7uLk4oeK6ONg"
      },
      "execution_count": 6,
      "outputs": []
    }
  ],
  "metadata": {
    "kernelspec": {
      "display_name": "Python 3",
      "language": "python",
      "name": "python3"
    },
    "language_info": {
      "codemirror_mode": {
        "name": "ipython",
        "version": 3
      },
      "file_extension": ".py",
      "mimetype": "text/x-python",
      "name": "python",
      "nbconvert_exporter": "python",
      "pygments_lexer": "ipython3",
      "version": "3.11.5"
    },
    "colab": {
      "provenance": []
    }
  },
  "nbformat": 4,
  "nbformat_minor": 0
}